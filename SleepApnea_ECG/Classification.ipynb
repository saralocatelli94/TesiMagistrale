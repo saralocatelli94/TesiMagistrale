{
 "cells": [
  {
   "cell_type": "code",
   "execution_count": 29,
   "metadata": {},
   "outputs": [],
   "source": [
    "import random\n",
    "from numpy.random import permutation\n",
    "import pandas as pd\n",
    "import matplotlib.pyplot as plt\n",
    "import statistics\n",
    "import numpy as np\n",
    "from sklearn import preprocessing\n",
    "import math\n",
    "from sklearn.metrics import confusion_matrix\n",
    "import itertools"
   ]
  },
  {
   "cell_type": "code",
   "execution_count": 24,
   "metadata": {},
   "outputs": [],
   "source": [
    "def plot_confusion_matrix(cm, classes,\n",
    "                          normalize=False,\n",
    "                          title='Confusion matrix',\n",
    "                          cmap=plt.cm.Blues):\n",
    "    \"\"\"\n",
    "    This function prints and plots the confusion matrix.\n",
    "    Normalization can be applied by setting `normalize=True`.\n",
    "    \"\"\"\n",
    "    if normalize:\n",
    "        cm = cm.astype('float') / cm.sum(axis=1)[:, np.newaxis]\n",
    "        print(\"Normalized confusion matrix\")\n",
    "    else:\n",
    "        print('Confusion matrix, without normalization')\n",
    "\n",
    "    print(cm)\n",
    "\n",
    "    plt.imshow(cm, interpolation='nearest', cmap=cmap)\n",
    "    plt.title(title)\n",
    "    plt.colorbar()\n",
    "    tick_marks = np.arange(len(classes))\n",
    "    plt.xticks(tick_marks, classes, rotation=45)\n",
    "    plt.yticks(tick_marks, classes)\n",
    "\n",
    "    fmt = '.2f' if normalize else 'd'\n",
    "    thresh = cm.max() / 2.\n",
    "    for i, j in itertools.product(range(cm.shape[0]), range(cm.shape[1])):\n",
    "        plt.text(j, i, format(cm[i, j], fmt),\n",
    "                 horizontalalignment=\"center\",\n",
    "                 color=\"white\" if cm[i, j] > thresh else \"black\")\n",
    "\n",
    "    plt.ylabel('True label')\n",
    "    plt.xlabel('Predicted label')\n",
    "    plt.tight_layout()"
   ]
  },
  {
   "cell_type": "code",
   "execution_count": 13,
   "metadata": {},
   "outputs": [],
   "source": [
    "mypath='C:/Users/sara/Documents/5anno/TESI/DataBase_PhysioNet/www.physionet.org/physiobank/database/apnea-ecg/'"
   ]
  },
  {
   "cell_type": "code",
   "execution_count": 14,
   "metadata": {},
   "outputs": [],
   "source": [
    "dfFeatures = pd.read_pickle( mypath+'Features/Features.pkl')"
   ]
  },
  {
   "cell_type": "code",
   "execution_count": 15,
   "metadata": {},
   "outputs": [],
   "source": [
    "dfFeatures=dfFeatures.dropna() "
   ]
  },
  {
   "cell_type": "code",
   "execution_count": 19,
   "metadata": {},
   "outputs": [],
   "source": [
    "df_normalized=pd.DataFrame()\n",
    "df_normalized['db']=dfFeatures['db']\n",
    "df_normalized['mediaRR']=preprocessing.normalize([np.array(dfFeatures['mediaRR'])])[0]\n",
    "df_normalized['stdRR']=preprocessing.normalize([np.array(dfFeatures['stdRR'])])[0]\n",
    "df_normalized['NN50_v1']=preprocessing.normalize([np.array(dfFeatures['NN50_v1'])])[0]\n",
    "df_normalized['NN50_v2']=preprocessing.normalize([np.array(dfFeatures['NN50_v2'])])[0]\n",
    "df_normalized['pNN50_v1']=preprocessing.normalize([np.array(dfFeatures['pNN50_v1'])])[0]\n",
    "df_normalized['pNN50_v2']=preprocessing.normalize([np.array(dfFeatures['pNN50_v2'])])[0]\n",
    "df_normalized['mean_rd']=preprocessing.normalize([np.array(dfFeatures['mean_rd'])])[0]\n",
    "df_normalized['std_rd']=preprocessing.normalize([np.array(dfFeatures['std_rd'])])[0]\n",
    "df_normalized['RMSDD']=preprocessing.normalize([np.array(dfFeatures['RMSDD'])])[0]\n",
    "df_normalized['serialCC_1']=preprocessing.normalize([np.array(dfFeatures['serialCC_1'])])[0]\n",
    "df_normalized['serialCC_2']=preprocessing.normalize([np.array(dfFeatures['serialCC_2'])])[0]\n",
    "df_normalized['serialCC_3']=preprocessing.normalize([np.array(dfFeatures['serialCC_3'])])[0]\n",
    "df_normalized['serialCC_4']=preprocessing.normalize([np.array(dfFeatures['serialCC_4'])])[0]\n",
    "df_normalized['serialCC_5']=preprocessing.normalize([np.array(dfFeatures['serialCC_5'])])[0]\n",
    "df_normalized['NEP']=preprocessing.normalize([np.array(dfFeatures['NEP'])])[0]\n",
    "df_normalized['label']=np.array(dfFeatures['label'])"
   ]
  },
  {
   "cell_type": "code",
   "execution_count": 20,
   "metadata": {},
   "outputs": [],
   "source": [
    "# Randomly shuffle the index of nba.\n",
    "random_indices = permutation(df_normalized.index)\n",
    "# Set a cutoff for how many items we want in the test set (in this case 1/3 of the items)\n",
    "test_cutoff = math.floor(len(df_normalized)*0.3)\n",
    "# Generate the test set by taking the first 1/3 of the randomly shuffled indices.\n",
    "test = df_normalized.loc[random_indices[1:test_cutoff]]\n",
    "# Generate the train set with YYYYYthe rest of the data.\n",
    "train = df_normalized.loc[random_indices[test_cutoff:]]\n",
    "\n",
    "#train,test= train_test_split(df_a, test_size=0.3, random_state=42)"
   ]
  },
  {
   "cell_type": "code",
   "execution_count": 21,
   "metadata": {},
   "outputs": [],
   "source": [
    "x_columns = ['mediaRR', 'stdRR', 'NN50_v1', 'NN50_v2', 'pNN50_v1', 'pNN50_v2',\n",
    "       'mean_rd', 'std_rd','RMSDD', 'serialCC_1', 'serialCC_2', 'serialCC_3',\n",
    "       'serialCC_4', 'serialCC_5', 'NEP']\n",
    "y_column = ['label']"
   ]
  },
  {
   "cell_type": "code",
   "execution_count": 22,
   "metadata": {},
   "outputs": [],
   "source": [
    "from sklearn.neighbors import KNeighborsRegressor\n",
    "# Create the knn model.\n",
    "# Look at the five closest neighbors.\n",
    "knn = KNeighborsRegressor(n_neighbors=1)\n",
    "# Fit the model on the training data.\n",
    "classifier=knn.fit(train[x_columns], train[y_column])\n",
    "# Make point predictions on the test set using the fit model.\n",
    "predictions = knn.predict(test[x_columns])\n",
    "\n",
    "y_pred = classifier.fit(train[x_columns], train[y_column]).predict(test[x_columns])\n",
    "for i in range(0,len(y_pred)):\n",
    "    y_pred[i]=math.floor(y_pred[i])"
   ]
  },
  {
   "cell_type": "code",
   "execution_count": 27,
   "metadata": {},
   "outputs": [],
   "source": [
    "cnf_matrix = confusion_matrix(test[y_column]['label'], y_pred)"
   ]
  },
  {
   "cell_type": "code",
   "execution_count": 30,
   "metadata": {},
   "outputs": [
    {
     "name": "stdout",
     "output_type": "stream",
     "text": [
      "Confusion matrix, without normalization\n",
      "[[2347  681]\n",
      " [ 646 1285]]\n"
     ]
    },
    {
     "data": {
      "image/png": "[encoded data removed]",
      "text/plain": [
       "<Figure size 432x288 with 2 Axes>"
      ]
     },
     "metadata": {},
     "output_type": "display_data"
    }
   ],
   "source": [
    "plt.figure()\n",
    "plot_confusion_matrix(cnf_matrix, classes=['0','1'],\n",
    "                      title='Confusion matrix, without normalization')"
   ]
  },
  {
   "cell_type": "code",
   "execution_count": 31,
   "metadata": {},
   "outputs": [
    {
     "data": {
      "text/plain": [
       "0.7324057269610809"
      ]
     },
     "execution_count": 31,
     "metadata": {},
     "output_type": "execute_result"
    }
   ],
   "source": [
    "accu=(cnf_matrix[0][0]+cnf_matrix[1][1])/(cnf_matrix[0][0]+cnf_matrix[1][1]+cnf_matrix[1][0]+cnf_matrix[0][1])\n",
    "accu"
   ]
  },
  {
   "cell_type": "code",
   "execution_count": 33,
   "metadata": {},
   "outputs": [
    {
     "name": "stdout",
     "output_type": "stream",
     "text": [
      "Normalized confusion matrix\n",
      "[[0.77509908 0.22490092]\n",
      " [0.33454169 0.66545831]]\n"
     ]
    },
    {
     "data": {
      "image/png": "[encoded data removed]",
      "text/plain": [
       "<Figure size 432x288 with 2 Axes>"
      ]
     },
     "metadata": {},
     "output_type": "display_data"
    }
   ],
   "source": [
    "plt.figure()\n",
    "plot_confusion_matrix(cnf_matrix, classes=['0','1'], normalize=True,\n",
    "                      title='Normalized confusion matrix')"
   ]
  },
  {
   "cell_type": "code",
   "execution_count": 32,
   "metadata": {},
   "outputs": [
    {
     "name": "stdout",
     "output_type": "stream",
     "text": [
      "             precision    recall  f1-score   support\n",
      "\n",
      "          0       0.78      0.78      0.78      3028\n",
      "          1       0.65      0.67      0.66      1931\n",
      "\n",
      "avg / total       0.73      0.73      0.73      4959\n",
      "\n"
     ]
    }
   ],
   "source": [
    "from sklearn.metrics import classification_report\n",
    "print(classification_report(test[y_column], y_pred))  "
   ]
  },
  {
   "cell_type": "code",
   "execution_count": null,
   "metadata": {},
   "outputs": [],
   "source": []
  },
  {
   "cell_type": "code",
   "execution_count": null,
   "metadata": {},
   "outputs": [],
   "source": []
  }
 ],
 "metadata": {
  "kernelspec": {
   "display_name": "Python 3",
   "language": "python",
   "name": "python3"
  },
  "language_info": {
   "codemirror_mode": {
    "name": "ipython",
    "version": 3
   },
   "file_extension": ".py",
   "mimetype": "text/x-python",
   "name": "python",
   "nbconvert_exporter": "python",
   "pygments_lexer": "ipython3",
   "version": "3.6.5"
  }
 },
 "nbformat": 4,
 "nbformat_minor": 2
}
