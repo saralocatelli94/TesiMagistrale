{
 "cells": [
  {
   "cell_type": "code",
   "execution_count": 1,
   "metadata": {},
   "outputs": [],
   "source": [
    "import wfdb\n",
    "import pandas as pd\n",
    "import matplotlib.pyplot as plt\n",
    "import statistics\n",
    "import numpy as np\n",
    "import math\n",
    "from sklearn import preprocessing\n",
    "from sklearn.metrics import confusion_matrix\n",
    "import itertools\n",
    "import numpy as np\n",
    "import matplotlib.pyplot as plt\n",
    "from scipy.fftpack import fft, ifft\n",
    "from numpy.random import permutation\n",
    "from sklearn import svm, datasets\n",
    "from sklearn.model_selection import train_test_split"
   ]
  },
  {
   "cell_type": "code",
   "execution_count": 2,
   "metadata": {},
   "outputs": [],
   "source": [
    "def plot_confusion_matrix(cm, classes,\n",
    "                          normalize=False,\n",
    "                          title='Confusion matrix',\n",
    "                          cmap=plt.cm.Blues):\n",
    "    \"\"\"\n",
    "    This function prints and plots the confusion matrix.\n",
    "    Normalization can be applied by setting `normalize=True`.\n",
    "    \"\"\"\n",
    "    if normalize:\n",
    "        cm = cm.astype('float') / cm.sum(axis=1)[:, np.newaxis]\n",
    "        print(\"Normalized confusion matrix\")\n",
    "    else:\n",
    "        print('Confusion matrix, without normalization')\n",
    "\n",
    "    print(cm)\n",
    "\n",
    "    plt.imshow(cm, interpolation='nearest', cmap=cmap)\n",
    "    plt.title(title)\n",
    "    plt.colorbar()\n",
    "    tick_marks = np.arange(len(classes))\n",
    "    plt.xticks(tick_marks, classes, rotation=45)\n",
    "    plt.yticks(tick_marks, classes)\n",
    "\n",
    "    fmt = '.2f' if normalize else 'd'\n",
    "    thresh = cm.max() / 2.\n",
    "    for i, j in itertools.product(range(cm.shape[0]), range(cm.shape[1])):\n",
    "        plt.text(j, i, format(cm[i, j], fmt),\n",
    "                 horizontalalignment=\"center\",\n",
    "                 color=\"white\" if cm[i, j] > thresh else \"black\")\n",
    "\n",
    "    plt.ylabel('True label')\n",
    "    plt.xlabel('Predicted label')\n",
    "    plt.tight_layout()"
   ]
  },
  {
   "cell_type": "code",
   "execution_count": 3,
   "metadata": {},
   "outputs": [],
   "source": [
    "def calcola_NN50_v1(rr_list):\n",
    "    NN50_v1_count=0\n",
    "    for i in range(0,len(rr_list)-1): \n",
    "        if(abs(rr_list[i]-rr_list[i+1])-0.050>=0):\n",
    "            NN50_v1_count+=1\n",
    "    return NN50_v1_count"
   ]
  },
  {
   "cell_type": "code",
   "execution_count": 4,
   "metadata": {},
   "outputs": [],
   "source": [
    "def calcola_NN50_v2(list):\n",
    "    NN50_v2_count=0\n",
    "    for i in range(1,len(list)):\n",
    "        if(abs(list[i]-list[i-1])-0.050>=0):\n",
    "            NN50_v2_count+=1\n",
    "    return NN50_v2_count"
   ]
  },
  {
   "cell_type": "code",
   "execution_count": 5,
   "metadata": {},
   "outputs": [],
   "source": [
    "def serial_corr(y1, lag=1):\n",
    "    y2=np.roll(y1,lag)\n",
    "    m=statistics.mean(y1)\n",
    "    num=0\n",
    "    denom=0\n",
    "#    print(np.corrcoef(y1,y2)[0,1])\n",
    "    for i in range(0,len(y1)):\n",
    "        num+=(y1[i]-m)*(y2[i]-m)\n",
    "        denom+=(y1[i]-m)**2\n",
    "    return num/denom"
   ]
  },
  {
   "cell_type": "code",
   "execution_count": 6,
   "metadata": {},
   "outputs": [],
   "source": [
    "def calcola_NEP(lista):\n",
    "    sommatoria=0\n",
    "    if(len(lista)<=2):\n",
    "        return(np.nan)\n",
    "    for i in range(1,len(lista)-1):\n",
    "        var=(lista[i]-lista[i-1])*(lista[i+1]-lista[i])\n",
    "        sommatoria+=(1-np.heaviside(var,0.5))\n",
    "    return sommatoria/(len(lista)-2)"
   ]
  },
  {
   "cell_type": "code",
   "execution_count": 7,
   "metadata": {},
   "outputs": [],
   "source": [
    "fileName=['a01','a02','a03','a04','a05','a06','a07','a08','a09','a10','a11','a12','a13','a14','a15','a16','a17','a18','a19','a20',\n",
    "         'b01','b02','b03','b04','b05','c01','c02','c03','c04','c05','c06','c07','c08','c09','c10',\n",
    "         'x01','x02','x03','x04','x05','x06','x07','x08','x09','x10','x11','x12','x13','x14','x15','x16','x17','x18','x19','x20']\n",
    "mypath='C:/Users/sara/Documents/5anno/TESI/DataBase_PhysioNet/www.physionet.org/physiobank/database/apnea-ecg/'\n"
   ]
  },
  {
   "cell_type": "code",
   "execution_count": 21,
   "metadata": {},
   "outputs": [
    {
     "name": "stdout",
     "output_type": "stream",
     "text": [
      "0\n",
      "1\n",
      "2\n",
      "3\n",
      "4\n",
      "5\n",
      "6\n",
      "7\n",
      "8\n",
      "9\n",
      "10\n",
      "11\n",
      "12\n",
      "13\n",
      "14\n",
      "15\n",
      "16\n",
      "17\n",
      "18\n",
      "19\n",
      "20\n",
      "21\n",
      "22\n",
      "23\n",
      "24\n",
      "25\n",
      "26\n",
      "27\n",
      "28\n",
      "29\n",
      "30\n",
      "31\n",
      "32\n",
      "33\n"
     ]
    }
   ],
   "source": [
    "df_features_list=[]\n",
    "for index in range(0,34):\n",
    "#index=0\n",
    "    recordname=mypath+fileName[index]\n",
    "    print(index)\n",
    "\n",
    "    #leggo RR da csv\n",
    "    dfQRS = pd.read_pickle( mypath+'RR-EDR/'+fileName[index]+'RR.pkl')\n",
    "    RR_intervals=dfQRS['rr']\n",
    "\n",
    "    df = pd.read_pickle( mypath+'DivisioneDB/'+fileName[index]+'divisione.pkl')\n",
    "\n",
    "    # calcolo interbeat differentials rd[i]=rr[i+1]−rr[i]\n",
    "    rd_intervals=[]\n",
    "    rd_intervals_2=[]\n",
    "    for i in range(0,len(RR_intervals)-1):\n",
    "        rd_intervals.append(RR_intervals[i+1]-RR_intervals[i])\n",
    "    rd_intervals_2=np.power(rd_intervals,2)\n",
    "\n",
    "    #label\n",
    "    label=[]\n",
    "    for i in range(0,len(df['label'])):\n",
    "        if(df['label'][i]=='N'):\n",
    "            label.append(0)\n",
    "        else:\n",
    "            label.append(1)\n",
    "\n",
    "\n",
    "    #CALCOLO LE FEATURES\n",
    "    df_features=pd.DataFrame()\n",
    "    mediaRR=[]\n",
    "    stdRR=[]\n",
    "    durata=[]\n",
    "    db=[]\n",
    "    for i in range(0,len(df)):\n",
    "        durata.append(df['stopRRIndex'][i]-df['startRRIndex'][i])\n",
    "        if(durata[i]<2):\n",
    "            mediaRR.append(np.nan)\n",
    "            stdRR.append(np.nan)\n",
    "        else:\n",
    "            intervalloRR=np.array(RR_intervals[df['startRRIndex'][i]:df['stopRRIndex'][i]])\n",
    "            mediaRR.append(statistics.mean(intervalloRR))\n",
    "            stdRR.append(statistics.stdev(intervalloRR))\n",
    "\n",
    "        db.append(index)\n",
    "\n",
    "    df_features['db']=db\n",
    "    df_features['mediaRR']=mediaRR\n",
    "    df_features['stdRR']=stdRR\n",
    "   # if(len(label)==len(NEP)+1):\n",
    "     #   label=label[:-1]\n",
    "    df_features['label']=label\n",
    "    df_features=df_features.dropna() \n",
    "    df_features_list.append(df_features)"
   ]
  },
  {
   "cell_type": "code",
   "execution_count": 22,
   "metadata": {},
   "outputs": [],
   "source": [
    "df_tot=pd.DataFrame()\n",
    "for i in range(0,len(df_features_list)):\n",
    "    df_tot=df_tot.append(df_features_list[i],ignore_index=True)"
   ]
  },
  {
   "cell_type": "code",
   "execution_count": 11,
   "metadata": {},
   "outputs": [],
   "source": [
    "df_tot.to_pickle(mypath+'Features/FeaturesHRVTime.pkl')"
   ]
  },
  {
   "cell_type": "code",
   "execution_count": 23,
   "metadata": {},
   "outputs": [
    {
     "data": {
      "text/plain": [
       "16539"
      ]
     },
     "execution_count": 23,
     "metadata": {},
     "output_type": "execute_result"
    }
   ],
   "source": [
    "len(df_tot)"
   ]
  },
  {
   "cell_type": "code",
   "execution_count": 24,
   "metadata": {},
   "outputs": [
    {
     "data": {
      "text/plain": [
       "Index(['db', 'mediaRR', 'stdRR', 'label'], dtype='object')"
      ]
     },
     "execution_count": 24,
     "metadata": {},
     "output_type": "execute_result"
    }
   ],
   "source": [
    "df_tot.columns"
   ]
  },
  {
   "cell_type": "code",
   "execution_count": 27,
   "metadata": {},
   "outputs": [],
   "source": [
    "df_normalized=pd.DataFrame()\n",
    "df_normalized['db']=df_tot['db']\n",
    "df_normalized['mediaRR']=preprocessing.normalize([np.array(df_tot['mediaRR'])])[0]\n",
    "df_normalized['stdRR']=preprocessing.normalize([np.array(df_tot['stdRR'])])[0]\n",
    "'''df_normalized['NN50_v1']=preprocessing.normalize([np.array(df_tot['NN50_v1'])])[0]\n",
    "df_normalized['NN50_v2']=preprocessing.normalize([np.array(df_tot['NN50_v2'])])[0]\n",
    "df_normalized['pNN50_v1']=preprocessing.normalize([np.array(df_tot['pNN50_v1'])])[0]\n",
    "df_normalized['pNN50_v2']=preprocessing.normalize([np.array(df_tot['pNN50_v2'])])[0]\n",
    "df_normalized['mean_rd']=preprocessing.normalize([np.array(df_tot['mean_rd'])])[0]\n",
    "df_normalized['std_rd']=preprocessing.normalize([np.array(df_tot['std_rd'])])[0]\n",
    "df_normalized['RMSDD']=preprocessing.normalize([np.array(df_tot['RMSDD'])])[0]\n",
    "df_normalized['serialCC_1']=preprocessing.normalize([np.array(df_tot['serialCC_1'])])[0]\n",
    "df_normalized['serialCC_2']=preprocessing.normalize([np.array(df_tot['serialCC_2'])])[0]\n",
    "df_normalized['serialCC_3']=preprocessing.normalize([np.array(df_tot['serialCC_3'])])[0]\n",
    "df_normalized['serialCC_4']=preprocessing.normalize([np.array(df_tot['serialCC_4'])])[0]\n",
    "df_normalized['serialCC_5']=preprocessing.normalize([np.array(df_tot['serialCC_5'])])[0]\n",
    "df_normalized['NEP']=preprocessing.normalize([np.array(df_tot['NEP'])])[0]'''\n",
    "df_normalized['label']=np.array(df_tot['label'])"
   ]
  },
  {
   "cell_type": "code",
   "execution_count": 28,
   "metadata": {},
   "outputs": [
    {
     "data": {
      "text/plain": [
       "Index(['db', 'mediaRR', 'stdRR', 'label'], dtype='object')"
      ]
     },
     "execution_count": 28,
     "metadata": {},
     "output_type": "execute_result"
    }
   ],
   "source": [
    "df_normalized.columns"
   ]
  },
  {
   "cell_type": "code",
   "execution_count": 29,
   "metadata": {},
   "outputs": [],
   "source": [
    "# Randomly shuffle the index of nba.\n",
    "random_indices = permutation(df_normalized.index)\n",
    "# Set a cutoff for how many items we want in the test set (in this case 1/3 of the items)\n",
    "test_cutoff = math.floor(len(df_normalized)*0.3)\n",
    "# Generate the test set by taking the first 1/3 of the randomly shuffled indices.\n",
    "test = df_normalized.loc[random_indices[1:test_cutoff]]\n",
    "# Generate the train set with YYYYYthe rest of the data.\n",
    "train = df_normalized.loc[random_indices[test_cutoff:]]\n",
    "\n",
    "#train,test= train_test_split(df_a, test_size=0.3, random_state=42)"
   ]
  },
  {
   "cell_type": "code",
   "execution_count": 31,
   "metadata": {},
   "outputs": [],
   "source": [
    "x_columns = [ 'mediaRR', 'stdRR']\n",
    "y_column = ['label']"
   ]
  },
  {
   "cell_type": "markdown",
   "metadata": {},
   "source": [
    "# KNN"
   ]
  },
  {
   "cell_type": "code",
   "execution_count": 32,
   "metadata": {},
   "outputs": [],
   "source": [
    "from sklearn.neighbors import KNeighborsRegressor\n",
    "# Create the knn model.\n",
    "# Look at the five closest neighbors.\n",
    "knn = KNeighborsRegressor(n_neighbors=1)\n",
    "# Fit the model on the training data.\n",
    "classifier=knn.fit(train[x_columns], train[y_column])\n",
    "# Make point predictions on the test set using the fit model.\n",
    "predictions = knn.predict(test[x_columns])\n",
    "\n",
    "y_pred = classifier.fit(train[x_columns], train[y_column]).predict(test[x_columns])\n",
    "for i in range(0,len(y_pred)):\n",
    "    y_pred[i]=math.floor(y_pred[i])"
   ]
  },
  {
   "cell_type": "code",
   "execution_count": 33,
   "metadata": {},
   "outputs": [],
   "source": [
    "cnf_matrix = confusion_matrix(test[y_column]['label'], y_pred)"
   ]
  },
  {
   "cell_type": "code",
   "execution_count": 34,
   "metadata": {},
   "outputs": [
    {
     "name": "stdout",
     "output_type": "stream",
     "text": [
      "Confusion matrix, without normalization\n",
      "[[2096  892]\n",
      " [ 935 1037]]\n"
     ]
    },
    {
     "data": {
      "image/png": "[encoded data removed]",
      "text/plain": [
       "<Figure size 432x288 with 2 Axes>"
      ]
     },
     "metadata": {},
     "output_type": "display_data"
    }
   ],
   "source": [
    "plt.figure()\n",
    "plot_confusion_matrix(cnf_matrix, classes=['0','1'],\n",
    "                      title='Confusion matrix, without normalization')"
   ]
  },
  {
   "cell_type": "code",
   "execution_count": null,
   "metadata": {},
   "outputs": [],
   "source": []
  },
  {
   "cell_type": "code",
   "execution_count": 35,
   "metadata": {},
   "outputs": [
    {
     "name": "stdout",
     "output_type": "stream",
     "text": [
      "Normalized confusion matrix\n",
      "[[0.70147256 0.29852744]\n",
      " [0.47413793 0.52586207]]\n"
     ]
    },
    {
     "data": {
      "image/png": "[encoded data removed]",
      "text/plain": [
       "<Figure size 432x288 with 2 Axes>"
      ]
     },
     "metadata": {},
     "output_type": "display_data"
    }
   ],
   "source": [
    "plt.figure()\n",
    "plot_confusion_matrix(cnf_matrix, classes=['0','1'], normalize=True,\n",
    "                      title='Normalized confusion matrix')"
   ]
  },
  {
   "cell_type": "code",
   "execution_count": 36,
   "metadata": {},
   "outputs": [
    {
     "name": "stdout",
     "output_type": "stream",
     "text": [
      "             precision    recall  f1-score   support\n",
      "\n",
      "          0       0.69      0.70      0.70      2988\n",
      "          1       0.54      0.53      0.53      1972\n",
      "\n",
      "avg / total       0.63      0.63      0.63      4960\n",
      "\n"
     ]
    }
   ],
   "source": [
    "from sklearn.metrics import classification_report\n",
    "print(classification_report(test[y_column], y_pred))  "
   ]
  },
  {
   "cell_type": "markdown",
   "metadata": {},
   "source": [
    "# SVM"
   ]
  },
  {
   "cell_type": "code",
   "execution_count": 37,
   "metadata": {},
   "outputs": [
    {
     "name": "stderr",
     "output_type": "stream",
     "text": [
      "C:\\Users\\sara\\Anaconda3\\lib\\site-packages\\sklearn\\utils\\validation.py:578: DataConversionWarning: A column-vector y was passed when a 1d array was expected. Please change the shape of y to (n_samples, ), for example using ravel().\n",
      "  y = column_or_1d(y, warn=True)\n"
     ]
    }
   ],
   "source": [
    "from sklearn.svm import SVC  \n",
    "svclassifier = SVC(kernel='linear')  \n",
    "y_pred = svclassifier.fit(train[x_columns], train[y_column]).predict(test[x_columns])  \n",
    "for i in range(0,len(y_pred)):\n",
    "    y_pred[i]=math.floor(y_pred[i])"
   ]
  },
  {
   "cell_type": "code",
   "execution_count": 38,
   "metadata": {},
   "outputs": [],
   "source": [
    "cnf_matrix = confusion_matrix(test[y_column]['label'], y_pred)"
   ]
  },
  {
   "cell_type": "code",
   "execution_count": 39,
   "metadata": {},
   "outputs": [
    {
     "name": "stdout",
     "output_type": "stream",
     "text": [
      "Confusion matrix, without normalization\n",
      "[[2988    0]\n",
      " [1972    0]]\n"
     ]
    },
    {
     "data": {
      "image/png": "[encoded data removed]",
      "text/plain": [
       "<Figure size 432x288 with 2 Axes>"
      ]
     },
     "metadata": {},
     "output_type": "display_data"
    }
   ],
   "source": [
    "plt.figure()\n",
    "plot_confusion_matrix(cnf_matrix, classes=['0','1'],\n",
    "                      title='Confusion matrix, without normalization')"
   ]
  },
  {
   "cell_type": "code",
   "execution_count": 40,
   "metadata": {},
   "outputs": [
    {
     "name": "stdout",
     "output_type": "stream",
     "text": [
      "Normalized confusion matrix\n",
      "[[1. 0.]\n",
      " [1. 0.]]\n"
     ]
    },
    {
     "data": {
      "image/png": "[encoded data removed]",
      "text/plain": [
       "<Figure size 432x288 with 2 Axes>"
      ]
     },
     "metadata": {},
     "output_type": "display_data"
    }
   ],
   "source": [
    "plt.figure()\n",
    "plot_confusion_matrix(cnf_matrix, classes=['0','1'], normalize=True,\n",
    "                      title='Normalized confusion matrix')"
   ]
  },
  {
   "cell_type": "code",
   "execution_count": 41,
   "metadata": {},
   "outputs": [
    {
     "name": "stdout",
     "output_type": "stream",
     "text": [
      "             precision    recall  f1-score   support\n",
      "\n",
      "          0       0.60      1.00      0.75      2988\n",
      "          1       0.00      0.00      0.00      1972\n",
      "\n",
      "avg / total       0.36      0.60      0.45      4960\n",
      "\n"
     ]
    },
    {
     "name": "stderr",
     "output_type": "stream",
     "text": [
      "C:\\Users\\sara\\Anaconda3\\lib\\site-packages\\sklearn\\metrics\\classification.py:1135: UndefinedMetricWarning: Precision and F-score are ill-defined and being set to 0.0 in labels with no predicted samples.\n",
      "  'precision', 'predicted', average, warn_for)\n"
     ]
    }
   ],
   "source": [
    "from sklearn.metrics import classification_report\n",
    "print(classification_report(test[y_column], y_pred))  "
   ]
  },
  {
   "cell_type": "markdown",
   "metadata": {},
   "source": [
    "# metodi per la classificazione automatica di apnee notturne basate su un set rdotto di sensori"
   ]
  },
  {
   "cell_type": "code",
   "execution_count": null,
   "metadata": {},
   "outputs": [],
   "source": []
  },
  {
   "cell_type": "code",
   "execution_count": null,
   "metadata": {},
   "outputs": [],
   "source": []
  }
 ],
 "metadata": {
  "kernelspec": {
   "display_name": "Python 3",
   "language": "python",
   "name": "python3"
  },
  "language_info": {
   "codemirror_mode": {
    "name": "ipython",
    "version": 3
   },
   "file_extension": ".py",
   "mimetype": "text/x-python",
   "name": "python",
   "nbconvert_exporter": "python",
   "pygments_lexer": "ipython3",
   "version": "3.6.5"
  }
 },
 "nbformat": 4,
 "nbformat_minor": 2
}
