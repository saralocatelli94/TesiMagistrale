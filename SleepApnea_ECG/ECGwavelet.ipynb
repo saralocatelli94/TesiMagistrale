{
 "cells": [
  {
   "cell_type": "code",
   "execution_count": 1,
   "metadata": {},
   "outputs": [],
   "source": [
    "import wfdb\n",
    "import pandas as pd\n",
    "import matplotlib.pyplot as plt\n",
    "import statistics\n",
    "import numpy as np\n",
    "import pywt\n",
    "import math"
   ]
  },
  {
   "cell_type": "code",
   "execution_count": 2,
   "metadata": {},
   "outputs": [],
   "source": [
    "fileName=['a01','a02','a03','a04','a05','a06','a07','a08','a09','a10','a11','a12','a13','a14','a15','a16','a17','a18','a19','a20',\n",
    "         'b01','b02','b03','b04','b05','c01','c02','c03','c04','c05','c06','c07','c08','c09','c10',\n",
    "         'x01','x02','x03','x04','x05','x06','x07','x08','x09','x10','x11','x12','x13','x14','x15','x16','x17','x18','x19','x20']\n",
    "mypath='C:/Users/sara/Documents/5anno/TESI/DataBase_PhysioNet/www.physionet.org/physiobank/database/apnea-ecg/'\n"
   ]
  },
  {
   "cell_type": "code",
   "execution_count": 3,
   "metadata": {},
   "outputs": [],
   "source": [
    "def wrcoef(X, coef_type, coeffs, wavename, level):\n",
    "    N = np.array(X).size\n",
    "    a, ds = coeffs[0], list(reversed(coeffs[1:]))\n",
    "\n",
    "    if coef_type =='a':\n",
    "        return pywt.upcoef('a', a, wavename, level=level,take=N)[:N]\n",
    "    elif coef_type == 'd':\n",
    "        return pywt.upcoef('d', ds[level-1], wavename, level=level,take=N)[:N]\n",
    "    else:\n",
    "        raise ValueError(\"Invalid coefficient type: {}\".format(coef_type))"
   ]
  },
  {
   "cell_type": "code",
   "execution_count": 28,
   "metadata": {},
   "outputs": [
    {
     "name": "stdout",
     "output_type": "stream",
     "text": [
      "1\n",
      "3\n",
      "4\n",
      "5\n",
      "6\n",
      "27\n",
      "28\n",
      "29\n",
      "30\n"
     ]
    }
   ],
   "source": [
    "#LEGGO I DATI ECG\n",
    "medie2=[]\n",
    "medie3=[]\n",
    "medie4=[]\n",
    "medie5=[]\n",
    "stddev2=[]\n",
    "stddev3=[]\n",
    "stddev4=[]\n",
    "stddev5=[]\n",
    "index=0\n",
    "file=[1,3,4,5,6,27,28,29,30]\n",
    "for index in file:\n",
    "    print(index)\n",
    "    recordname=mypath+fileName[index]\n",
    "    record = wfdb.rdsamp(recordname)\n",
    "    dfECG=pd.DataFrame()\n",
    "    ecg=record[0]\n",
    "    Fs_ecg=record[1]['fs']\n",
    "    intervallo=len(ecg)/(len(ecg)*Fs_ecg)\n",
    "    time_ecg=[]\n",
    "    for i in range(0,len(ecg)):\n",
    "        time_ecg.append(intervallo*i)\n",
    "    dfECG['time']=time_ecg\n",
    "    dfECG['ecg']=ecg\n",
    "\n",
    "    #APPLICO LA WAVELET\n",
    "    wavelet = pywt.Wavelet('db4')\n",
    "    from pywt import wavedec\n",
    "    ecg=np.array(dfECG['ecg'])\n",
    "    coeffs = wavedec(ecg, 'db4', level=5)\n",
    "    level = 5\n",
    "    A5 = wrcoef(ecg, 'a', coeffs, 'db4', level)\n",
    "    D5 = wrcoef(ecg, 'd', coeffs, 'db4', level)\n",
    "    D4 = wrcoef(ecg, 'd', coeffs, 'db4', 4)\n",
    "    D3 = wrcoef(ecg, 'd', coeffs, 'db4', 3)\n",
    "    D2 = wrcoef(ecg, 'd', coeffs, 'db4', 2)\n",
    "    D1 = wrcoef(ecg, 'd', coeffs, 'db4', 1)\n",
    "    stddev2.append(statistics.variance(D2))\n",
    "    stddev3.append(statistics.variance(D3))\n",
    "    stddev4.append(statistics.variance(D4))\n",
    "    stddev5.append(statistics.variance(D5))\n"
   ]
  },
  {
   "cell_type": "code",
   "execution_count": 35,
   "metadata": {},
   "outputs": [
    {
     "data": {
      "text/plain": [
       "[<matplotlib.lines.Line2D at 0x2d7041a5710>]"
      ]
     },
     "execution_count": 35,
     "metadata": {},
     "output_type": "execute_result"
    },
    {
     "data": {
      "image/png": "[encoded data removed]",
      "text/plain": [
       "<Figure size 432x288 with 1 Axes>"
      ]
     },
     "metadata": {},
     "output_type": "display_data"
    }
   ],
   "source": [
    "x=[2,3,4,5]\n",
    "meanD2_apn=statistics.mean([stddev2[0],stddev2[1],stddev2[2],stddev2[3],stddev2[4]])\n",
    "meanD2=statistics.mean([stddev2[5],stddev2[6],stddev2[7],stddev2[8]])\n",
    "meanD3_apn=statistics.mean([stddev3[0],stddev3[1],stddev3[2],stddev3[3],stddev3[4]])\n",
    "meanD3=statistics.mean([stddev3[5],stddev3[6],stddev3[7],stddev3[8]])\n",
    "meanD4_apn=statistics.mean([stddev4[0],stddev4[1],stddev4[2],stddev4[3],stddev4[4]])\n",
    "meanD4=statistics.mean([stddev4[5],stddev4[6],stddev4[7],stddev4[8]])\n",
    "meanD5_apn=statistics.mean([stddev5[0],stddev5[1],stddev5[2],stddev5[3],stddev5[4]])\n",
    "meanD5=statistics.mean([stddev5[5],stddev5[6],stddev5[7],stddev5[8]])\n",
    "plt.plot(x,[meanD2_apn,meanD3_apn,meanD4_apn,meanD5_apn])\n",
    "plt.plot(x,[meanD2,meanD3,meanD4,meanD5])\n",
    "plt.plot(x,[stddev2[4],stddev3[4],stddev4[4],stddev5[4]])"
   ]
  },
  {
   "cell_type": "code",
   "execution_count": 27,
   "metadata": {},
   "outputs": [
    {
     "data": {
      "text/plain": [
       "4"
      ]
     },
     "execution_count": 27,
     "metadata": {},
     "output_type": "execute_result"
    }
   ],
   "source": [
    "len(stddev2)"
   ]
  },
  {
   "cell_type": "code",
   "execution_count": null,
   "metadata": {},
   "outputs": [],
   "source": []
  }
 ],
 "metadata": {
  "kernelspec": {
   "display_name": "Python 3",
   "language": "python",
   "name": "python3"
  },
  "language_info": {
   "codemirror_mode": {
    "name": "ipython",
    "version": 3
   },
   "file_extension": ".py",
   "mimetype": "text/x-python",
   "name": "python",
   "nbconvert_exporter": "python",
   "pygments_lexer": "ipython3",
   "version": "3.6.5"
  }
 },
 "nbformat": 4,
 "nbformat_minor": 2
}
