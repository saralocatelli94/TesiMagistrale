{
 "cells": [
  {
   "cell_type": "markdown",
   "metadata": {},
   "source": [
    "# Calcolo apnee da spO2"
   ]
  },
  {
   "cell_type": "code",
   "execution_count": 1,
   "metadata": {},
   "outputs": [
    {
     "name": "stdout",
     "output_type": "stream",
     "text": [
      "Info: numba.jit seems to be available.\n"
     ]
    }
   ],
   "source": [
    "import csv\n",
    "import pandas as pd\n",
    "import matplotlib.pyplot as plt\n",
    "import statistics\n",
    "import math\n",
    "import numpy as np\n",
    "from scipy.stats import linregress\n",
    "import nolds\n",
    "from lempel_ziv_complexity import lempel_ziv_complexity\n"
   ]
  },
  {
   "cell_type": "code",
   "execution_count": 2,
   "metadata": {},
   "outputs": [],
   "source": [
    "def zero_crossing(lista,media):\n",
    "    zc=0\n",
    "    for i in range (0,(len(lista)-1)):\n",
    "        if(lista[i]<=media and lista[i+1]>media):\n",
    "            zc+=1\n",
    "        elif(lista[i]>=media and lista[i+1]<media):\n",
    "            zc+=1\n",
    "        elif(lista[i]<media and lista[i+1]>=media):\n",
    "            zc+=1\n",
    "        elif(lista[i]>media and lista[i+1]<=media):\n",
    "            zc+=1\n",
    "    return zc"
   ]
  },
  {
   "cell_type": "code",
   "execution_count": 3,
   "metadata": {},
   "outputs": [],
   "source": [
    "def ApEn(U, m, r):\n",
    "\n",
    "    def _maxdist(x_i, x_j):\n",
    "        return max([abs(ua - va) for ua, va in zip(x_i, x_j)])\n",
    "\n",
    "    def _phi(m):\n",
    "        x = [[U[j] for j in range(i, i + m - 1 + 1)] for i in range(N - m + 1)]\n",
    "        C = [len([1 for x_j in x if _maxdist(x_i, x_j) <= r]) / (N - m + 1.0) for x_i in x]\n",
    "        return (N - m + 1.0)**(-1) * sum(np.log(C))\n",
    "\n",
    "    N = len(U)\n",
    "\n",
    "    return abs(_phi(m+1) - _phi(m))\n",
    "\n",
    "# Usage example\n",
    "U = np.array([85, 80, 89] * 17)\n",
    "\n",
    "#print (ApEn(U, 2, 3))\n",
    "#1.0996541105257052e-05\n",
    "\n",
    "#randU = np.random.choice([85, 80, 89], size=17*3)\n",
    "#print (ApEn(randU, 2, 3))"
   ]
  },
  {
   "cell_type": "code",
   "execution_count": 4,
   "metadata": {},
   "outputs": [],
   "source": [
    "def tsa(lista, value):\n",
    "    counter=0\n",
    "    for i in range(0,len(lista)):\n",
    "        if(lista[i]<value):\n",
    "            counter+=1\n",
    "    return counter"
   ]
  },
  {
   "cell_type": "code",
   "execution_count": 5,
   "metadata": {},
   "outputs": [],
   "source": [
    "def ODIS(lista,value,baseline):\n",
    "    counter=0\n",
    "    for i in range (0, len(lista)):\n",
    "        if(lista[i]<(baseline-value)):\n",
    "            counter+=1\n",
    "    return counter"
   ]
  },
  {
   "cell_type": "code",
   "execution_count": 13,
   "metadata": {},
   "outputs": [],
   "source": [
    "def ODIXY(lista,x,y):\n",
    "    counter=0\n",
    "    durata=0\n",
    "    for i in range(0,len(lista)):\n",
    "        if(lista[0]<x):\n",
    "            durata=1\n",
    "        if(i>0 and lista[i]<x and lista[i-1]>=x):\n",
    "            durata=1\n",
    "        elif(i>0 and lista[i]<x and lista[i-1]<x):\n",
    "            durata+=1\n",
    "        if(i>0 and lista[i]>=x and lista[i-1]<x):\n",
    "            if(durata>=y):\n",
    "                counter+=1\n",
    "            durata=0\n",
    "    return counter"
   ]
  },
  {
   "cell_type": "code",
   "execution_count": 42,
   "metadata": {},
   "outputs": [],
   "source": [
    "def odi(lista, value, baseline):\n",
    "    counter=0\n",
    "    soglia=baseline*(1-value/100)\n",
    "    for i in range(0,len(lista)):\n",
    "        if(lista[0]<=soglia):\n",
    "            counter+=1\n",
    "        elif(i>0 and lista[i-1]>soglia and lista[i]<=soglia):\n",
    "            counter+=1\n",
    "    return counter"
   ]
  },
  {
   "cell_type": "code",
   "execution_count": 6,
   "metadata": {},
   "outputs": [],
   "source": [
    "mypath='C:/Users/sara/AppData/Local/VirtualStore/Program Files (x86)/SpO2 Assistant(ITD)V3.0.3/Data'    \n",
    "df = pd.read_csv( mypath+'/prova6_20180725150233.csv', names=['date', 'time', 'spO2','pulse'],header=1)\n",
    "spo2_array=df['spO2']"
   ]
  },
  {
   "cell_type": "markdown",
   "metadata": {},
   "source": [
    "# Feature extraction\n",
    "\n"
   ]
  },
  {
   "cell_type": "markdown",
   "metadata": {},
   "source": [
    "#### Divido in segmenti di 12 secondi per il calcolo di Dmean. Per ognuno calcolo la media e la differenza in valore assoluto con il segmento adiacente."
   ]
  },
  {
   "cell_type": "code",
   "execution_count": 7,
   "metadata": {},
   "outputs": [
    {
     "name": "stdout",
     "output_type": "stream",
     "text": [
      "        medie  differenze\n",
      "0   98.000000    0.000000\n",
      "1   98.000000    0.000000\n",
      "2   98.000000    0.000000\n",
      "3   98.000000    0.000000\n",
      "4   98.000000    0.000000\n",
      "5   98.000000    0.000000\n",
      "6   98.333333    0.333333\n",
      "7   98.000000    0.333333\n",
      "8   98.000000    0.000000\n",
      "9   98.000000    0.000000\n",
      "10  98.000000    0.000000\n",
      "11  98.000000    0.000000\n",
      "12  98.000000    0.000000\n",
      "13  98.000000    0.000000\n",
      "14  97.000000    1.000000\n",
      "15  95.833333    1.166667\n",
      "16  95.750000    0.083333\n",
      "17  96.416667    0.666667\n",
      "18  96.000000    0.416667\n",
      "19  96.000000    0.000000\n",
      "20  96.000000    0.000000\n",
      "21  96.000000    0.000000\n",
      "22  96.000000    0.000000\n",
      "23  96.583333    0.583333\n",
      "24  97.000000    0.416667\n",
      "25  96.166667    0.833333\n",
      "26  96.000000    0.166667\n",
      "27  96.000000    0.000000\n",
      "28  96.750000    0.750000\n",
      "29  97.083333    0.333333\n",
      "30  97.000000    0.083333\n",
      "31  97.000000    0.000000\n",
      "32  97.000000    0.000000\n",
      "33  97.000000    0.000000\n",
      "34  97.000000    0.000000\n",
      "35  97.000000    0.000000\n",
      "36  96.666667    0.333333\n",
      "37  96.916667    0.250000\n",
      "38  96.833333    0.083333\n",
      "39  96.000000    0.833333\n",
      "40  96.000000    0.000000\n",
      "41  96.416667    0.416667\n",
      "42  97.000000    0.583333\n",
      "43  97.000000    0.000000\n",
      "44  97.000000    0.000000\n",
      "45  97.000000    0.000000\n",
      "46  97.000000    0.000000\n"
     ]
    }
   ],
   "source": [
    "df12=pd.DataFrame(columns=['medie'])\n",
    "numIntervalli12=len(spo2_array)/12\n",
    "if(len(spo2_array)%12!=0):\n",
    "    numIntervalli12+=1\n",
    "numIntervalli12=math.floor(numIntervalli12)\n",
    "intervalli12=[]\n",
    "differenze=[]\n",
    "medie12=[]\n",
    "for i in range(0,numIntervalli12):\n",
    "    intervalli12.append(spo2_array[i*12:i*12+12])\n",
    "    medie12.append(statistics.mean(intervalli12[i]))\n",
    "    if(i==0):\n",
    "        differenze.append(0)\n",
    "    if(i>0):\n",
    "        differenze.append(abs(medie12[i]-medie12[i-1]))\n",
    "df12['medie']=medie12\n",
    "df12['differenze']=differenze\n",
    "print(df12)"
   ]
  },
  {
   "cell_type": "markdown",
   "metadata": {},
   "source": [
    "#### Divido in segmenti di 1 minuto. Campionamento 1 Hz -> 1 minuto=60 misure. Calcolo le varie features"
   ]
  },
  {
   "cell_type": "code",
   "execution_count": 43,
   "metadata": {},
   "outputs": [
    {
     "name": "stdout",
     "output_type": "stream",
     "text": [
      "       medie  minimi  variance  NumZC     slope  AbsSlope     Dmean  apEntr  \\\n",
      "0  98.000000      98  0.000000      0  0.000000  0.000000  0.000000     0.0   \n",
      "1  98.066667      98  0.063277      2 -0.002445  0.002445  0.133333     0.0   \n",
      "2  97.800000      96  0.298305      1 -0.017783  0.017783  0.200000     0.0   \n",
      "3  96.000000      95  0.271186      4  0.004890  0.004890  0.466667     0.0   \n",
      "4  96.316667      96  0.220056      1  0.021645  0.021645  0.200000     0.0   \n",
      "5  96.400000      96  0.277966      2  0.021006  0.021006  0.416667     0.0   \n",
      "6  97.000000      97  0.000000      0  0.000000  0.000000  0.016667     0.0   \n",
      "7  96.683333      96  0.220056      3 -0.015810  0.015810  0.300000     0.0   \n",
      "8  96.683333      96  0.220056      1  0.021645  0.021645  0.200000     0.0   \n",
      "9  97.000000      97  0.000000      0  0.000000  0.000000  0.000000     0.0   \n",
      "\n",
      "   LZcomp  tsa70  tsa80  tsa85  tsa90  tsa95   baseline  ODIS2  ODIS3  ODIS4  \\\n",
      "0       2      0      0      0      0      0  98.000000      0      0      0   \n",
      "1       4      0      0      0      0      0  98.333333      0      0      0   \n",
      "2       4      0      0      0      0      0  98.000000      0      0      0   \n",
      "3       6      0      0      0      0      0  96.666667      0      0      0   \n",
      "4       3      0      0      0      0      0  97.000000      0      0      0   \n",
      "5       5      0      0      0      0      0  97.083333      0      0      0   \n",
      "6       2      0      0      0      0      0  97.000000      0      0      0   \n",
      "7       5      0      0      0      0      0  97.000000      0      0      0   \n",
      "8       3      0      0      0      0      0  97.000000      0      0      0   \n",
      "9       2      0      0      0      0      0  97.000000      0      0      0   \n",
      "\n",
      "   ODIS5  ODI21  ODI31  ODI41  ODI51  ODI23  ODI33  ODI43  ODI53  ODI25  \\\n",
      "0      0      0      0      0      0      0      0      0      0      0   \n",
      "1      0      0      0      0      0      0      0      0      0      0   \n",
      "2      0      0      0      0      0      0      0      0      0      0   \n",
      "3      0      0      0      0      0      0      0      0      0      0   \n",
      "4      0      0      0      0      0      0      0      0      0      0   \n",
      "5      0      0      0      0      0      0      0      0      0      0   \n",
      "6      0      0      0      0      0      0      0      0      0      0   \n",
      "7      0      0      0      0      0      0      0      0      0      0   \n",
      "8      0      0      0      0      0      0      0      0      0      0   \n",
      "9      0      0      0      0      0      0      0      0      0      0   \n",
      "\n",
      "   ODI35  ODI45  ODI55  odi2  odi3  odi4  \n",
      "0      0      0      0     0     0     0  \n",
      "1      0      0      0     0     0     0  \n",
      "2      0      0      0     1     0     0  \n",
      "3      0      0      0     0     0     0  \n",
      "4      0      0      0     0     0     0  \n",
      "5      0      0      0     0     0     0  \n",
      "6      0      0      0     0     0     0  \n",
      "7      0      0      0     0     0     0  \n",
      "8      0      0      0     0     0     0  \n",
      "9      0      0      0     0     0     0  \n"
     ]
    }
   ],
   "source": [
    "features=pd.DataFrame(columns=['medie'])\n",
    "numIntervalli=len(spo2_array)/60\n",
    "if(len(spo2_array)%60!=0):\n",
    "    numIntervalli+=1\n",
    "numIntervalli=math.floor(numIntervalli)\n",
    "intervalli=[]\n",
    "minimi=[]\n",
    "medie=[]\n",
    "varianze=[]\n",
    "numZC=[]\n",
    "slopes=[]\n",
    "Dmean=[]\n",
    "apEntr=[]\n",
    "LZcomp=[]\n",
    "tsa70=[]\n",
    "tsa80=[]\n",
    "tsa85=[]\n",
    "tsa90=[]\n",
    "tsa95=[]\n",
    "baseline=[]\n",
    "ODIS2=[]\n",
    "ODIS3=[]\n",
    "ODIS4=[]\n",
    "ODIS5=[]\n",
    "\n",
    "ODI21=[]\n",
    "ODI31=[]\n",
    "ODI41=[]\n",
    "ODI51=[]\n",
    "ODI23=[]\n",
    "ODI33=[]\n",
    "ODI43=[]\n",
    "ODI53=[]\n",
    "ODI25=[]\n",
    "ODI35=[]\n",
    "ODI45=[]\n",
    "ODI55=[]\n",
    "\n",
    "odi2=[]\n",
    "odi3=[]\n",
    "odi4=[]\n",
    "for i in range(0,numIntervalli):\n",
    "    intervalli.append(spo2_array[i*60:i*60+60])\n",
    "    minimi.append(min(intervalli[i]))\n",
    "    medie.append(statistics.mean(intervalli[i]))\n",
    "    varianze.append(statistics.variance(intervalli[i]))\n",
    "    intervallo_array=np.asarray(intervalli[i])\n",
    "    numZC.append(zero_crossing(intervallo_array,medie[i]))\n",
    "    x=np.arange(0,len(intervalli[i]),1)\n",
    "    slope, intercept, r_value, p_value, std_err = linregress(x, intervalli[i])\n",
    "    slopes.append(slope)\n",
    "    Dmean.append(statistics.mean(differenze[i*5:i*5+5]))\n",
    "  #  apEntr.append(nolds.sampen(intervalli[i]))\n",
    "    apEntr.append(ApEn(intervallo_array,2,3))\n",
    "    LZcomp.append(lempel_ziv_complexity(np.asarray(intervalli[i])))\n",
    "    baseline.append(statistics.mean(sorted(intervalli[i],reverse=True)[:(math.floor(len(intervalli[i])*0.2))]))\n",
    "    tsa70.append(tsa(intervallo_array,70))\n",
    "    tsa80.append(tsa(intervallo_array,80))\n",
    "    tsa85.append(tsa(intervallo_array,85))\n",
    "    tsa90.append(tsa(intervallo_array,90))\n",
    "    tsa95.append(tsa(intervallo_array,95))\n",
    "    ODIS2.append(ODIS(intervallo_array,2,baseline[i]))\n",
    "    ODIS3.append(ODIS(intervallo_array,3,baseline[i]))\n",
    "    ODIS4.append(ODIS(intervallo_array,4,baseline[i]))\n",
    "    ODIS5.append(ODIS(intervallo_array,5,baseline[i]))\n",
    "    ODI21.append(ODIXY(intervallo_array,2,1))\n",
    "    ODI31.append(ODIXY(intervallo_array,3,1))\n",
    "    ODI41.append(ODIXY(intervallo_array,4,1))\n",
    "    ODI51.append(ODIXY(intervallo_array,5,1))\n",
    "    ODI23.append(ODIXY(intervallo_array,2,3))\n",
    "    ODI33.append(ODIXY(intervallo_array,3,3))\n",
    "    ODI43.append(ODIXY(intervallo_array,4,3))\n",
    "    ODI53.append(ODIXY(intervallo_array,5,3))\n",
    "    ODI25.append(ODIXY(intervallo_array,2,5))\n",
    "    ODI35.append(ODIXY(intervallo_array,3,5))\n",
    "    ODI45.append(ODIXY(intervallo_array,4,5))\n",
    "    ODI55.append(ODIXY(intervallo_array,5,5))\n",
    "    odi2.append(odi(intervallo_array,2,baseline[i]))\n",
    "    odi3.append(odi(intervallo_array,4,baseline[i]))\n",
    "    odi4.append(odi(intervallo_array,4,baseline[i]))\n",
    "features['minimi']=minimi\n",
    "features['medie']=medie\n",
    "features['variance']=varianze\n",
    "features['NumZC']=numZC\n",
    "features['slope']=slopes\n",
    "features['AbsSlope']=[abs(x) for x in slopes]\n",
    "features['Dmean']=Dmean\n",
    "features['apEntr']=apEntr\n",
    "features['LZcomp']=LZcomp\n",
    "features['tsa70']=tsa70\n",
    "features['tsa80']=tsa70\n",
    "features['tsa85']=tsa70\n",
    "features['tsa90']=tsa70\n",
    "features['tsa95']=tsa70\n",
    "features['baseline']=baseline\n",
    "features['ODIS2']=ODIS2\n",
    "features['ODIS3']=ODIS3\n",
    "features['ODIS4']=ODIS4\n",
    "features['ODIS5']=ODIS5\n",
    "features['ODI21']=ODI21\n",
    "features['ODI31']=ODI31\n",
    "features['ODI41']=ODI41\n",
    "features['ODI51']=ODI51\n",
    "features['ODI23']=ODI23\n",
    "features['ODI33']=ODI33\n",
    "features['ODI43']=ODI43\n",
    "features['ODI53']=ODI53\n",
    "features['ODI25']=ODI25\n",
    "features['ODI35']=ODI35\n",
    "features['ODI45']=ODI45\n",
    "features['ODI55']=ODI55\n",
    "features['odi2']=odi2\n",
    "features['odi3']=odi3\n",
    "features['odi4']=odi4\n",
    "with pd.option_context('display.max_rows', None, 'display.max_columns', None):\n",
    "    print(features)"
   ]
  },
  {
   "cell_type": "code",
   "execution_count": 9,
   "metadata": {},
   "outputs": [
    {
     "data": {
      "text/plain": [
       "[<matplotlib.lines.Line2D at 0x21b0fce1160>]"
      ]
     },
     "execution_count": 9,
     "metadata": {},
     "output_type": "execute_result"
    },
    {
     "data": {
      "image/png": "[encoded data removed]",
      "text/plain": [
       "<Figure size 432x288 with 1 Axes>"
      ]
     },
     "metadata": {},
     "output_type": "display_data"
    }
   ],
   "source": [
    "y=[]\n",
    "#creo grafico medie\n",
    "listemedie=[]\n",
    "for i in range(0,len(intervalli)):\n",
    "    for j in range(0,len(intervalli[i])):\n",
    "        listemedie.append(medie[i])\n",
    "for i in range (0,len(df)):\n",
    "    y.append(i)\n",
    "plt.figure(1)\n",
    "plt.title('Plot spO2')\n",
    "plt.gcf().autofmt_xdate()\n",
    "plt.step(y,df['spO2'])\n",
    "plt.step(y,listemedie)"
   ]
  },
  {
   "cell_type": "code",
   "execution_count": 10,
   "metadata": {},
   "outputs": [
    {
     "data": {
      "image/png": "[encoded data removed]",
      "text/plain": [
       "<Figure size 432x288 with 1 Axes>"
      ]
     },
     "metadata": {},
     "output_type": "display_data"
    }
   ],
   "source": [
    "x=np.arange(0,len(intervalli[0]))\n",
    "y=intervalli[0]\n",
    "slope, intercept, r_value, p_value, std_err = linregress(x,intervalli[0])\n",
    "plt.plot(x, y, 'o', label='original data')\n",
    "plt.plot(x, intercept + slope*x, 'r', label='fitted line')\n",
    "plt.legend()\n",
    "plt.show()"
   ]
  },
  {
   "cell_type": "code",
   "execution_count": 11,
   "metadata": {},
   "outputs": [],
   "source": [
    "# second order measure\n",
    "y2=[]\n",
    "x2=[]\n",
    "for i in range(0,len(spo2_array)):\n",
    "    if((i+2)<len(spo2_array)):\n",
    "        y2.append(spo2_array[i+2]-spo2_array[i+1])\n",
    "        x2.append(spo2_array[i+1]-spo2_array[i])\n"
   ]
  },
  {
   "cell_type": "code",
   "execution_count": 12,
   "metadata": {},
   "outputs": [
    {
     "data": {
      "text/plain": [
       "555"
      ]
     },
     "execution_count": 12,
     "metadata": {},
     "output_type": "execute_result"
    },
    {
     "data": {
      "image/png": "[encoded data removed]",
      "text/plain": [
       "<Figure size 432x288 with 1 Axes>"
      ]
     },
     "metadata": {},
     "output_type": "display_data"
    }
   ],
   "source": [
    "plt.figure(1)\n",
    "plt.plot(y2,x2)\n",
    "len(y2)\n",
    "len(x2)\n"
   ]
  },
  {
   "cell_type": "code",
   "execution_count": 38,
   "metadata": {},
   "outputs": [
    {
     "data": {
      "text/plain": [
       "180    96\n",
       "181    96\n",
       "182    96\n",
       "183    96\n",
       "184    96\n",
       "185    96\n",
       "186    96\n",
       "187    96\n",
       "188    96\n",
       "189    96\n",
       "190    95\n",
       "191    95\n",
       "192    95\n",
       "193    95\n",
       "194    95\n",
       "195    95\n",
       "196    95\n",
       "197    95\n",
       "198    96\n",
       "199    96\n",
       "200    96\n",
       "201    97\n",
       "202    97\n",
       "203    97\n",
       "204    97\n",
       "205    97\n",
       "206    97\n",
       "207    97\n",
       "208    97\n",
       "209    96\n",
       "210    96\n",
       "211    96\n",
       "212    96\n",
       "213    96\n",
       "214    96\n",
       "215    96\n",
       "216    96\n",
       "217    96\n",
       "218    96\n",
       "219    96\n",
       "220    96\n",
       "221    96\n",
       "222    96\n",
       "223    96\n",
       "224    96\n",
       "225    96\n",
       "226    96\n",
       "227    96\n",
       "228    96\n",
       "229    96\n",
       "230    96\n",
       "231    96\n",
       "232    96\n",
       "233    96\n",
       "234    96\n",
       "235    96\n",
       "236    96\n",
       "237    96\n",
       "238    96\n",
       "239    96\n",
       "Name: spO2, dtype: int64"
      ]
     },
     "execution_count": 38,
     "metadata": {},
     "output_type": "execute_result"
    }
   ],
   "source": [
    "intervalli[3]"
   ]
  },
  {
   "cell_type": "code",
   "execution_count": 41,
   "metadata": {},
   "outputs": [
    {
     "data": {
      "text/plain": [
       "96.66666666666667"
      ]
     },
     "execution_count": 41,
     "metadata": {},
     "output_type": "execute_result"
    }
   ],
   "source": [
    "baseline[3]"
   ]
  },
  {
   "cell_type": "code",
   "execution_count": null,
   "metadata": {},
   "outputs": [],
   "source": []
  },
  {
   "cell_type": "code",
   "execution_count": null,
   "metadata": {},
   "outputs": [],
   "source": []
  },
  {
   "cell_type": "code",
   "execution_count": null,
   "metadata": {},
   "outputs": [],
   "source": []
  },
  {
   "cell_type": "code",
   "execution_count": null,
   "metadata": {},
   "outputs": [],
   "source": []
  },
  {
   "cell_type": "code",
   "execution_count": null,
   "metadata": {},
   "outputs": [],
   "source": []
  },
  {
   "cell_type": "code",
   "execution_count": null,
   "metadata": {},
   "outputs": [],
   "source": []
  },
  {
   "cell_type": "code",
   "execution_count": null,
   "metadata": {},
   "outputs": [],
   "source": []
  },
  {
   "cell_type": "code",
   "execution_count": null,
   "metadata": {},
   "outputs": [],
   "source": []
  },
  {
   "cell_type": "code",
   "execution_count": null,
   "metadata": {},
   "outputs": [],
   "source": []
  },
  {
   "cell_type": "code",
   "execution_count": null,
   "metadata": {},
   "outputs": [],
   "source": []
  },
  {
   "cell_type": "code",
   "execution_count": null,
   "metadata": {},
   "outputs": [],
   "source": []
  },
  {
   "cell_type": "code",
   "execution_count": null,
   "metadata": {},
   "outputs": [],
   "source": []
  },
  {
   "cell_type": "code",
   "execution_count": null,
   "metadata": {},
   "outputs": [],
   "source": []
  },
  {
   "cell_type": "code",
   "execution_count": null,
   "metadata": {},
   "outputs": [],
   "source": []
  },
  {
   "cell_type": "code",
   "execution_count": null,
   "metadata": {},
   "outputs": [],
   "source": []
  },
  {
   "cell_type": "code",
   "execution_count": null,
   "metadata": {},
   "outputs": [],
   "source": []
  },
  {
   "cell_type": "code",
   "execution_count": null,
   "metadata": {},
   "outputs": [],
   "source": []
  },
  {
   "cell_type": "code",
   "execution_count": null,
   "metadata": {},
   "outputs": [],
   "source": []
  },
  {
   "cell_type": "code",
   "execution_count": null,
   "metadata": {},
   "outputs": [],
   "source": []
  },
  {
   "cell_type": "code",
   "execution_count": null,
   "metadata": {},
   "outputs": [],
   "source": []
  },
  {
   "cell_type": "code",
   "execution_count": null,
   "metadata": {},
   "outputs": [],
   "source": []
  },
  {
   "cell_type": "code",
   "execution_count": null,
   "metadata": {},
   "outputs": [],
   "source": []
  },
  {
   "cell_type": "code",
   "execution_count": null,
   "metadata": {},
   "outputs": [],
   "source": []
  },
  {
   "cell_type": "code",
   "execution_count": null,
   "metadata": {},
   "outputs": [],
   "source": []
  },
  {
   "cell_type": "code",
   "execution_count": null,
   "metadata": {},
   "outputs": [],
   "source": []
  }
 ],
 "metadata": {
  "kernelspec": {
   "display_name": "Python 3",
   "language": "python",
   "name": "python3"
  },
  "language_info": {
   "codemirror_mode": {
    "name": "ipython",
    "version": 3
   },
   "file_extension": ".py",
   "mimetype": "text/x-python",
   "name": "python",
   "nbconvert_exporter": "python",
   "pygments_lexer": "ipython3",
   "version": "3.6.5"
  }
 },
 "nbformat": 4,
 "nbformat_minor": 2
}
