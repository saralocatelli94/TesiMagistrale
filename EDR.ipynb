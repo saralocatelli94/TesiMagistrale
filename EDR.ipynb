{
 "cells": [
  {
   "cell_type": "code",
   "execution_count": null,
   "metadata": {},
   "outputs": [],
   "source": [
    "import wfdb\n",
    "import pandas as pd\n",
    "import matplotlib.pyplot as plt\n",
    "import statistics\n",
    "import numpy as np\n",
    "import pywt\n",
    "import math"
   ]
  },
  {
   "cell_type": "markdown",
   "metadata": {},
   "source": [
    "https://www.sciencedirect.com/science/article/pii/S0957417411006075"
   ]
  },
  {
   "cell_type": "code",
   "execution_count": null,
   "metadata": {},
   "outputs": [],
   "source": [
    "def reconstruction_plot(yyy,**kwargs):\n",
    "    \"\"\"Plot signal vector on x [0,1] independently of amount of values it contains.\"\"\"\n",
    "    plt.plot(np.linspace(0, len(ecg), len(yyy)), yyy, **kwargs)"
   ]
  },
  {
   "cell_type": "code",
   "execution_count": null,
   "metadata": {},
   "outputs": [],
   "source": [
    "def wrcoef(X, coef_type, coeffs, wavename, level):\n",
    "    N = np.array(X).size\n",
    "    a, ds = coeffs[0], list(reversed(coeffs[1:]))\n",
    "\n",
    "    if coef_type =='a':\n",
    "        return pywt.upcoef('a', a, wavename, level=level)[:N]\n",
    "    elif coef_type == 'd':\n",
    "        return pywt.upcoef('d', ds[level-1], wavename, level=level)[:N]\n",
    "    else:\n",
    "        raise ValueError(\"Invalid coefficient type: {}\".format(coef_type))"
   ]
  },
  {
   "cell_type": "code",
   "execution_count": null,
   "metadata": {},
   "outputs": [],
   "source": [
    "fileName=['a01','a02','a03','a04','a05','a06','a07','a08','a09','a10','a11','a12','a13','a14','a15','a16','a17','a18','a19','a20',\n",
    "         'b01','b02','b03','b04','b05','c01','c02','c03','c04','c05','c06','c07','c08','c09','c10',\n",
    "         'x01','x02','x03','x04','x05','x06','x07','x08','x09','x10','x11','x12','x13','x14','x15','x16','x17','x18','x19','x20']\n",
    "mypath='C:/Users/sara/Documents/5anno/TESI/DataBase_PhysioNet/www.physionet.org/physiobank/database/apnea-ecg/'\n"
   ]
  },
  {
   "cell_type": "code",
   "execution_count": null,
   "metadata": {},
   "outputs": [],
   "source": [
    "recordname=mypath+fileName[0]\n",
    "record = wfdb.rdsamp(recordname)\n",
    "dfECG=pd.DataFrame()\n",
    "ecg=record[0]\n",
    "Fs_ecg=record[1]['fs']\n",
    "intervallo=len(ecg)/(len(ecg)*Fs_ecg)\n",
    "time_ecg=[]\n",
    "for i in range(0,len(ecg)):\n",
    "    time_ecg.append(intervallo*i)\n",
    "dfECG['time']=time_ecg\n",
    "dfECG['ecg']=ecg\n"
   ]
  },
  {
   "cell_type": "code",
   "execution_count": null,
   "metadata": {},
   "outputs": [],
   "source": [
    "wavelet = pywt.Wavelet('db6')\n",
    "print(wavelet)\n",
    "#[C,l]=pywt.dwt(ecg, wavelet)"
   ]
  },
  {
   "cell_type": "code",
   "execution_count": null,
   "metadata": {},
   "outputs": [],
   "source": [
    "from pywt import wavedec\n",
    "ecg=np.array(dfECG['ecg'])\n",
    "coeffs = wavedec(ecg, 'db6', level=7)\n"
   ]
  },
  {
   "cell_type": "code",
   "execution_count": null,
   "metadata": {},
   "outputs": [],
   "source": [
    "plt.figure(figsize=(14,10))\n",
    "plt.axis([0,500,-3,3])\n",
    "reconstruction_plot(pywt.waverec(coeffs, wavelet)) # complete reconstruction\n",
    "reconstruction_plot(pywt.waverec(coeffs[:-1] + [None] * 1, wavelet)) # leaving out detail coefficients up to lvl 15\n",
    "reconstruction_plot(pywt.waverec(coeffs[:-2] + [None] * 2, wavelet)) # leaving out detail coefficients up to lvl 2\n",
    "reconstruction_plot(pywt.waverec(coeffs[:-3] + [None] * 3, wavelet)) # leaving out detail coefficients up to lvl 3\n",
    "reconstruction_plot(pywt.waverec(coeffs[:-4] + [None] * 4, wavelet)) # leaving out detail coefficients up to lvl 4\n",
    "reconstruction_plot(pywt.waverec(coeffs[:-5] + [None] * 5, wavelet)) # leaving out detail coefficients up to lvl 5\n",
    "reconstruction_plot(pywt.waverec(coeffs[:-6] + [None] * 6, wavelet)) # leaving out detail coefficients up to lvl 6\n",
    "reconstruction_plot(pywt.waverec(coeffs[:-7] + [None] * 7, wavelet)) # only approx\n",
    "plt.legend(['Full reconstruction', 'Reconstruction using lv1 to lv7','Reconstruction using lv2 to lv7','Reconstruction using lv3 to lv7'\n",
    "           ,'Reconstruction using lv4 to lv7','Reconstruction using lv5 to lv7','Reconstruction using lv6 to lv7','approx'])"
   ]
  },
  {
   "cell_type": "code",
   "execution_count": null,
   "metadata": {},
   "outputs": [],
   "source": [
    "level = 7\n",
    "A7 = wrcoef(ecg, 'a', coeffs, 'db6', level)\n",
    "D7 = wrcoef(ecg, 'd', coeffs, 'db6', level)\n",
    "D6 = wrcoef(ecg, 'd', coeffs, 'db1', 6)\n",
    "D5 = wrcoef(ecg, 'd', coeffs, 'db6', 5)\n",
    "D4 = wrcoef(ecg, 'd', coeffs, 'db6', 4)\n",
    "D3 = wrcoef(ecg, 'd', coeffs, 'db6', 3)\n",
    "D2 = wrcoef(ecg, 'd', coeffs, 'db6', 2)\n",
    "D1 = wrcoef(ecg, 'd', coeffs, 'db6', 1)"
   ]
  },
  {
   "cell_type": "code",
   "execution_count": null,
   "metadata": {},
   "outputs": [],
   "source": [
    "rec=A7+D7+D6+D5+D4+D3+D2+D1"
   ]
  },
  {
   "cell_type": "code",
   "execution_count": null,
   "metadata": {},
   "outputs": [],
   "source": [
    "f, axarr = plt.subplots(9, sharex=True,figsize=(15,8))\n",
    "axarr[0].axis([0,5000,-3,3])\n",
    "axarr[0].plot(D1)\n",
    "axarr[1].plot(D2)\n",
    "axarr[2].plot(D3)\n",
    "axarr[3].plot(D4)\n",
    "axarr[4].plot(D5)\n",
    "axarr[5].plot(D6)\n",
    "axarr[6].plot(D7)\n",
    "axarr[7].plot(A7)\n",
    "axarr[8].plot(ecg)"
   ]
  },
  {
   "cell_type": "markdown",
   "metadata": {},
   "source": [
    "### Tolgo il movimento dal segnale ECG"
   ]
  },
  {
   "cell_type": "code",
   "execution_count": null,
   "metadata": {},
   "outputs": [],
   "source": [
    "ecg_rec=[]\n",
    "for i in range(0,len(ecg)):\n",
    "    ecg_rec.append(ecg[i]-A7[i])"
   ]
  },
  {
   "cell_type": "code",
   "execution_count": null,
   "metadata": {},
   "outputs": [],
   "source": [
    "#tengo i valori assoluti di D2\n",
    "D2_abs=[math.sqrt(i**2) for i in D2]"
   ]
  },
  {
   "cell_type": "code",
   "execution_count": null,
   "metadata": {},
   "outputs": [],
   "source": [
    "ms=0\n",
    "for i in range(0,len(D2)):\n",
    "    ms=ms+D2_abs[i]**2\n",
    "ms=ms/len(D2)\n",
    "rms=math.sqrt(ms)"
   ]
  },
  {
   "cell_type": "code",
   "execution_count": null,
   "metadata": {},
   "outputs": [],
   "source": [
    "D2_abs_th=[]\n",
    "for i in range(0,len(D2_abs)):\n",
    "    if(D2_abs[i]<rms*2):\n",
    "        D2_abs_th.append(0)\n",
    "    else:\n",
    "        D2_abs_th.append(D2_abs)"
   ]
  },
  {
   "cell_type": "code",
   "execution_count": null,
   "metadata": {},
   "outputs": [],
   "source": [
    "s"
   ]
  },
  {
   "cell_type": "code",
   "execution_count": null,
   "metadata": {},
   "outputs": [],
   "source": [
    "plt.plot(D2_abs_th)"
   ]
  },
  {
   "cell_type": "code",
   "execution_count": null,
   "metadata": {},
   "outputs": [],
   "source": [
    "from scipy.signal import find_peaks"
   ]
  },
  {
   "cell_type": "code",
   "execution_count": null,
   "metadata": {},
   "outputs": [],
   "source": [
    "peaks, _ = find_peaks(D2_abs_th, distance=150)\n",
    "np.diff(peaks)\n",
    "array([186, 180, 177, 171, 177, 169, 167, 164, 158, 162, 172])\n",
    "plt.plot(D2_abs_th)\n",
    "plt.plot(peaks, D2_abs_th[peaks], \"D2\")"
   ]
  },
  {
   "cell_type": "code",
   "execution_count": null,
   "metadata": {},
   "outputs": [],
   "source": []
  },
  {
   "cell_type": "code",
   "execution_count": null,
   "metadata": {},
   "outputs": [],
   "source": []
  },
  {
   "cell_type": "code",
   "execution_count": null,
   "metadata": {},
   "outputs": [],
   "source": []
  }
 ],
 "metadata": {
  "kernelspec": {
   "display_name": "Python 3",
   "language": "python",
   "name": "python3"
  },
  "language_info": {
   "codemirror_mode": {
    "name": "ipython",
    "version": 3
   },
   "file_extension": ".py",
   "mimetype": "text/x-python",
   "name": "python",
   "nbconvert_exporter": "python",
   "pygments_lexer": "ipython3",
   "version": "3.6.5"
  }
 },
 "nbformat": 4,
 "nbformat_minor": 2
}
